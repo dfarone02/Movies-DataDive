{
 "cells": [
  {
   "cell_type": "markdown",
   "metadata": {},
   "source": [
    "# What is the best mix of genre types to maximize viewership?\n",
    "## Assuming that having more ratings means a higher viewership of the movie.\n",
    "## Secondary goal is a movie that is well liked, with an average rating greater than 4.0"
   ]
  },
  {
   "cell_type": "code",
   "execution_count": 1,
   "metadata": {},
   "outputs": [
    {
     "data": {
      "text/html": [
       "<script>\n",
       "code_show=true;\n",
       "function code_toggle() {\n",
       "if (code_show){\n",
       "$('div.input').hide();\n",
       "} else {\n",
       "$('div.input').show();\n",
       "}\n",
       "code_show = !code_show\n",
       "}\n",
       "$( document ).ready(code_toggle);\n",
       "</script>\n",
       "<form action=\"javascript:code_toggle()\"><input type=\"submit\" value=\"Click here to toggle on/off the raw code.\"></form>"
      ],
      "text/plain": [
       "<IPython.core.display.HTML object>"
      ]
     },
     "execution_count": 1,
     "metadata": {},
     "output_type": "execute_result"
    }
   ],
   "source": [
    "from IPython.display import HTML\n",
    "\n",
    "HTML('''<script>\n",
    "code_show=true;\n",
    "function code_toggle() {\n",
    "if (code_show){\n",
    "$('div.input').hide();\n",
    "} else {\n",
    "$('div.input').show();\n",
    "}\n",
    "code_show = !code_show\n",
    "}\n",
    "$( document ).ready(code_toggle);\n",
    "</script>\n",
    "<form action=\"javascript:code_toggle()\"><input type=\"submit\" value=\"Click here to toggle on/off the raw code.\"></form>''')"
   ]
  },
  {
   "cell_type": "code",
   "execution_count": 2,
   "metadata": {
    "colab": {
     "base_uri": "https://localhost:8080/"
    },
    "id": "1vPeD_Fc7pHf",
    "outputId": "37451bad-30e7-426d-80fa-1ceb1dca6c5b"
   },
   "outputs": [],
   "source": [
    "#get required libraries\n",
    "import numpy as np\n",
    "import pandas as pd\n",
    "import seaborn as sns\n",
    "import matplotlib.pyplot as plt\n",
    "plt.style.use('fivethirtyeight')\n",
    "%matplotlib inline\n",
    "\n",
    "import sklearn\n",
    "from sklearn import datasets, linear_model\n",
    "from sklearn.model_selection import train_test_split\n",
    "from sklearn.metrics import mean_squared_error,r2_score,mean_absolute_error\n",
    "\n",
    "from numpy import arange\n",
    "from sklearn.linear_model import LassoCV\n",
    "from sklearn.model_selection import RepeatedKFold\n",
    "from sklearn.model_selection import cross_val_score\n",
    "\n",
    "from sklearn.linear_model import Lasso\n",
    "\n",
    "pd.set_option('display.max_columns',200) #allows for up to 500 columns to be displayed when viewing a dataframe\n",
    "pd.set_option('display.max_rows',100)\n",
    "plt.style.use('seaborn') # a style that can be used for plots - see style reference above\n",
    "\n",
    "import statsmodels\n",
    "import statsmodels.api as sm\n",
    "import statsmodels.formula.api as smf\n",
    "\n",
    "import warnings\n",
    "warnings.filterwarnings(\"ignore\", category=DeprecationWarning)"
   ]
  },
  {
   "cell_type": "code",
   "execution_count": 3,
   "metadata": {
    "colab": {
     "base_uri": "https://localhost:8080/"
    },
    "id": "rXMgtTvZ83wZ",
    "outputId": "66d7939c-e5dd-4238-cbf9-c9c9cedee693",
    "scrolled": true
   },
   "outputs": [],
   "source": [
    "users = pd.read_csv('users.dat', sep='::', names=['gender', 'age', 'user_id', 'twitter_id'], engine = 'python')\n",
    "\n",
    "ratings = pd.read_csv('ratings.dat', sep='::', names=['user_id', 'movie_id', 'rating', 'rating_timestamp'], engine = 'python')\n",
    "ratings[\"rating_timestamp\"] = pd.to_datetime(ratings[\"rating_timestamp\"], unit='s')\n",
    "\n",
    "movies = pd.read_csv('movies.dat', sep='::', header=None, names=['movie_id', 'movie_title', 'genres'], index_col = 'movie_id', engine = 'python')"
   ]
  },
  {
   "cell_type": "code",
   "execution_count": 4,
   "metadata": {
    "colab": {
     "base_uri": "https://localhost:8080/",
     "height": 204
    },
    "id": "tNjd4K9z9UTm",
    "outputId": "abca7f2e-60ff-4448-d104-b2a21effb4a3"
   },
   "outputs": [],
   "source": [
    "#users.head()"
   ]
  },
  {
   "cell_type": "code",
   "execution_count": 5,
   "metadata": {
    "colab": {
     "base_uri": "https://localhost:8080/"
    },
    "id": "FGXpcUBQCQ9W",
    "outputId": "ff0d5cfe-86d3-44b3-f082-0e48c1278df9"
   },
   "outputs": [],
   "source": [
    "#users.info()"
   ]
  },
  {
   "cell_type": "code",
   "execution_count": 6,
   "metadata": {
    "colab": {
     "base_uri": "https://localhost:8080/",
     "height": 204
    },
    "id": "vR960HXQCZFh",
    "outputId": "b918f202-0f24-4845-ccc6-33fbb1553214"
   },
   "outputs": [],
   "source": [
    "#ratings.head()"
   ]
  },
  {
   "cell_type": "code",
   "execution_count": 7,
   "metadata": {
    "colab": {
     "base_uri": "https://localhost:8080/"
    },
    "id": "HtYTGMJ_Cq4j",
    "outputId": "1cad906b-50f6-4531-8253-cc9f7480da52"
   },
   "outputs": [],
   "source": [
    "#ratings.info()"
   ]
  },
  {
   "cell_type": "code",
   "execution_count": 8,
   "metadata": {
    "colab": {
     "base_uri": "https://localhost:8080/",
     "height": 235
    },
    "id": "7F83BlH2Czr7",
    "outputId": "3800927e-a94b-4219-9212-270918a7f636"
   },
   "outputs": [],
   "source": [
    "#movies.head()"
   ]
  },
  {
   "cell_type": "code",
   "execution_count": 9,
   "metadata": {
    "colab": {
     "base_uri": "https://localhost:8080/"
    },
    "id": "GOouILXDDL9Y",
    "outputId": "ea3acc97-cd58-4d52-f7c5-141a92636bd8"
   },
   "outputs": [],
   "source": [
    "#movies.info()"
   ]
  },
  {
   "cell_type": "code",
   "execution_count": 10,
   "metadata": {
    "colab": {
     "base_uri": "https://localhost:8080/",
     "height": 173
    },
    "id": "mjQd9IqCDiW8",
    "outputId": "3292bd0d-0ff9-4856-a338-118870f697d5"
   },
   "outputs": [],
   "source": [
    "#movies.describe()"
   ]
  },
  {
   "cell_type": "code",
   "execution_count": 11,
   "metadata": {
    "colab": {
     "base_uri": "https://localhost:8080/",
     "height": 419
    },
    "id": "vpnpNAWvFoEw",
    "outputId": "0d754eea-c37c-4593-d6b9-a1858f38d3da"
   },
   "outputs": [],
   "source": [
    "ratings = ratings.merge(movies, left_on='movie_id', right_on='movie_id')\n",
    "#ratings"
   ]
  },
  {
   "cell_type": "code",
   "execution_count": 12,
   "metadata": {
    "colab": {
     "base_uri": "https://localhost:8080/",
     "height": 419
    },
    "id": "ONxPKD3xN_3F",
    "outputId": "65c47d3d-4e28-47c0-b522-d61da87b8f3b"
   },
   "outputs": [],
   "source": [
    "user_ratings = ratings.merge(users, left_on = 'user_id', right_on = 'user_id')\n",
    "#ratings"
   ]
  },
  {
   "cell_type": "code",
   "execution_count": 13,
   "metadata": {
    "colab": {
     "base_uri": "https://localhost:8080/"
    },
    "id": "bBHNdaFfuXso",
    "outputId": "fe9fa4ac-2eac-4588-a65e-dec76afb8871"
   },
   "outputs": [
    {
     "data": {
      "text/plain": [
       "Drama                              843\n",
       "Comedy                             521\n",
       "Horror                             178\n",
       "Comedy|Drama                       162\n",
       "Comedy|Romance                     142\n",
       "                                  ... \n",
       "Adventure|Fantasy                    1\n",
       "Adventure|Drama|Western              1\n",
       "Action|Adventure|Drama|Thriller      1\n",
       "Musical|Romance|War                  1\n",
       "Film-Noir|Sci-Fi|Thriller            1\n",
       "Name: genres, Length: 301, dtype: int64"
      ]
     },
     "execution_count": 13,
     "metadata": {},
     "output_type": "execute_result"
    }
   ],
   "source": [
    "movies['genres'].value_counts()"
   ]
  },
  {
   "cell_type": "code",
   "execution_count": 14,
   "metadata": {
    "colab": {
     "base_uri": "https://localhost:8080/"
    },
    "id": "EeQkrAe9yWMZ",
    "outputId": "eb2bbddd-862b-4bfe-cfe5-04af0767e78a"
   },
   "outputs": [
    {
     "data": {
      "text/plain": [
       "Comedy                       116883\n",
       "Drama                        111423\n",
       "Comedy|Romance                42712\n",
       "Comedy|Drama                  42245\n",
       "Drama|Romance                 29170\n",
       "                              ...  \n",
       "Drama|Romance|Western            29\n",
       "Children's|Fantasy               27\n",
       "Comedy|Film-Noir|Thriller         5\n",
       "Film-Noir|Horror                  2\n",
       "Fantasy                           1\n",
       "Name: genres, Length: 301, dtype: int64"
      ]
     },
     "execution_count": 14,
     "metadata": {},
     "output_type": "execute_result"
    }
   ],
   "source": [
    "ratings['genres'].value_counts()"
   ]
  },
  {
   "cell_type": "markdown",
   "metadata": {
    "id": "i8Ki0Ai93Wwe"
   },
   "source": [
    "Comedy appears the most looking surface level data. <br>\n",
    "Comedy also has less movies in the category than Drama."
   ]
  },
  {
   "cell_type": "code",
   "execution_count": 15,
   "metadata": {
    "colab": {
     "base_uri": "https://localhost:8080/"
    },
    "id": "JVQ8fpOG5z9x",
    "outputId": "c43b4818-6143-4459-f362-b3ab19392d50"
   },
   "outputs": [
    {
     "name": "stdout",
     "output_type": "stream",
     "text": [
      "Ratings per comedy movie, including all sub-genres: 306.603611349957\n"
     ]
    }
   ],
   "source": [
    "#Finds the ratings per movie in the comedy genre by searching through all genres with the word \"comedy\"\n",
    "comedy_ratings = ratings[ratings['genres'].str.contains('Comedy')]\n",
    "countmovies = comedy_ratings['movie_title'].nunique()\n",
    "ratingspmovie = comedy_ratings.shape[0] / countmovies\n",
    "print('Ratings per comedy movie, including all sub-genres:', ratingspmovie)"
   ]
  },
  {
   "cell_type": "markdown",
   "metadata": {},
   "source": [
    "Method is next expanded to all categories."
   ]
  },
  {
   "cell_type": "code",
   "execution_count": 17,
   "metadata": {
    "colab": {
     "base_uri": "https://localhost:8080/"
    },
    "id": "9i_njNFQBoas",
    "outputId": "2b398a2f-ca65-4670-cd1b-aae787d3c9d7"
   },
   "outputs": [],
   "source": [
    "#loop through genres and find highest ratings per movie\n",
    "genresarray = ['Action', 'Adventure', 'Animation', \"Children's\", 'Comedy', 'Crime', 'Documentary', 'Drama', 'Fantasy', 'Film-Noir', 'Horror', 'Musical', 'Mystery', 'Romance', 'Sci-Fi', 'Thriller', 'War', 'Western']\n",
    "#create ratings per movie array for the purpose of building a plot\n",
    "ratingspmoviearray = []\n",
    "maxgenre = ''\n",
    "smaxgenre = ''\n",
    "tmaxgenre = ''\n",
    "maxratings = 0\n",
    "smaxratings = 0\n",
    "tmaxratings = 0\n",
    "for genre in genresarray:\n",
    "    target_ratings = ratings[ratings['genres'].str.contains(genre)]\n",
    "    countmovies = target_ratings['movie_title'].nunique()\n",
    "    ratingspmovie = target_ratings.shape[0] / countmovies\n",
    "    if ratingspmovie > maxratings:\n",
    "        tmaxratings = smaxratings\n",
    "        smaxratings = maxratings\n",
    "        maxratings = ratingspmovie\n",
    "        tmaxgenre = smaxgenre\n",
    "        smaxgenre = maxgenre\n",
    "        maxgenre = genre\n",
    "    ratingspmoviearray.append(ratingspmovie)\n"
   ]
  },
  {
   "cell_type": "code",
   "execution_count": 18,
   "metadata": {
    "colab": {
     "base_uri": "https://localhost:8080/",
     "height": 396
    },
    "id": "mBn7LgBt9KJN",
    "outputId": "be1b7b64-3af4-412d-9c8e-373d14f1a0f9"
   },
   "outputs": [
    {
     "data": {
      "image/png": "[encoded data removed]",
      "text/plain": [
       "<Figure size 576x396 with 1 Axes>"
      ]
     },
     "metadata": {},
     "output_type": "display_data"
    }
   ],
   "source": [
    "plt.bar(genresarray, height = ratingspmoviearray)\n",
    "plt.xticks(rotation=60)\n",
    "plt.show()"
   ]
  },
  {
   "cell_type": "markdown",
   "metadata": {},
   "source": [
    "Visualizing total ratings by genre including all sub genres shows that comedy is not the highest."
   ]
  },
  {
   "cell_type": "code",
   "execution_count": 19,
   "metadata": {
    "colab": {
     "base_uri": "https://localhost:8080/"
    },
    "id": "uVyJLLDoAfUS",
    "outputId": "1289b9ae-d340-47b8-d76a-10fc31c8de73"
   },
   "outputs": [
    {
     "name": "stdout",
     "output_type": "stream",
     "text": [
      "Genre with highest ratings per movie:\n",
      "Sci-Fi\n",
      "Ratings per movie:\n",
      "574.0656934306569\n",
      "\n",
      "Genre with the second highest ratings per movie:\n",
      "Fantasy\n",
      "Ratings per movie:\n",
      "533.8382352941177\n",
      "\n",
      "Genre with the third highest ratings per movie:\n",
      "Action\n",
      "Ratings per movie:\n",
      "520.1151515151515\n"
     ]
    }
   ],
   "source": [
    "print('Genre with highest ratings per movie:')\n",
    "print(maxgenre)\n",
    "print('Ratings per movie:')\n",
    "print(maxratings)\n",
    "\n",
    "print()\n",
    "\n",
    "print('Genre with the second highest ratings per movie:')\n",
    "print(smaxgenre)\n",
    "print('Ratings per movie:')\n",
    "print(smaxratings)\n",
    "\n",
    "print()\n",
    "\n",
    "print('Genre with the third highest ratings per movie:')\n",
    "print(tmaxgenre)\n",
    "print('Ratings per movie:')\n",
    "print(tmaxratings)"
   ]
  },
  {
   "cell_type": "code",
   "execution_count": 20,
   "metadata": {
    "colab": {
     "base_uri": "https://localhost:8080/",
     "height": 376
    },
    "id": "kor37lmr7t__",
    "outputId": "246a30b4-5eac-4bd7-ddbc-9a1278ff1f04"
   },
   "outputs": [
    {
     "name": "stdout",
     "output_type": "stream",
     "text": [
      "average ratings for genre Action\n"
     ]
    },
    {
     "data": {
      "text/html": [
       "<div>\n",
       "<style scoped>\n",
       "    .dataframe tbody tr th:only-of-type {\n",
       "        vertical-align: middle;\n",
       "    }\n",
       "\n",
       "    .dataframe tbody tr th {\n",
       "        vertical-align: top;\n",
       "    }\n",
       "\n",
       "    .dataframe thead th {\n",
       "        text-align: right;\n",
       "    }\n",
       "</style>\n",
       "<table border=\"1\" class=\"dataframe\">\n",
       "  <thead>\n",
       "    <tr style=\"text-align: right;\">\n",
       "      <th></th>\n",
       "      <th>genres</th>\n",
       "      <th>rating</th>\n",
       "    </tr>\n",
       "  </thead>\n",
       "  <tbody>\n",
       "    <tr>\n",
       "      <th>21</th>\n",
       "      <td>Action|Adventure|Drama|Sci-Fi|War</td>\n",
       "      <td>4.292977</td>\n",
       "    </tr>\n",
       "    <tr>\n",
       "      <th>32</th>\n",
       "      <td>Action|Adventure|Romance|War</td>\n",
       "      <td>4.251656</td>\n",
       "    </tr>\n",
       "    <tr>\n",
       "      <th>2</th>\n",
       "      <td>Action|Adventure|Animation</td>\n",
       "      <td>4.147826</td>\n",
       "    </tr>\n",
       "    <tr>\n",
       "      <th>88</th>\n",
       "      <td>Action|Sci-Fi|Thriller|War</td>\n",
       "      <td>4.125824</td>\n",
       "    </tr>\n",
       "    <tr>\n",
       "      <th>57</th>\n",
       "      <td>Action|Crime|Drama</td>\n",
       "      <td>4.110883</td>\n",
       "    </tr>\n",
       "    <tr>\n",
       "      <th>95</th>\n",
       "      <td>Action|Western</td>\n",
       "      <td>4.079613</td>\n",
       "    </tr>\n",
       "    <tr>\n",
       "      <th>67</th>\n",
       "      <td>Action|Drama|Mystery|Romance|Thriller</td>\n",
       "      <td>4.054475</td>\n",
       "    </tr>\n",
       "    <tr>\n",
       "      <th>73</th>\n",
       "      <td>Action|Drama|War</td>\n",
       "      <td>4.047693</td>\n",
       "    </tr>\n",
       "    <tr>\n",
       "      <th>30</th>\n",
       "      <td>Action|Adventure|Romance|Sci-Fi|War</td>\n",
       "      <td>4.022893</td>\n",
       "    </tr>\n",
       "    <tr>\n",
       "      <th>61</th>\n",
       "      <td>Action|Crime|Romance</td>\n",
       "      <td>3.974768</td>\n",
       "    </tr>\n",
       "  </tbody>\n",
       "</table>\n",
       "</div>"
      ],
      "text/plain": [
       "                                   genres    rating\n",
       "21      Action|Adventure|Drama|Sci-Fi|War  4.292977\n",
       "32           Action|Adventure|Romance|War  4.251656\n",
       "2              Action|Adventure|Animation  4.147826\n",
       "88             Action|Sci-Fi|Thriller|War  4.125824\n",
       "57                     Action|Crime|Drama  4.110883\n",
       "95                         Action|Western  4.079613\n",
       "67  Action|Drama|Mystery|Romance|Thriller  4.054475\n",
       "73                       Action|Drama|War  4.047693\n",
       "30    Action|Adventure|Romance|Sci-Fi|War  4.022893\n",
       "61                   Action|Crime|Romance  3.974768"
      ]
     },
     "execution_count": 20,
     "metadata": {},
     "output_type": "execute_result"
    }
   ],
   "source": [
    "#Show movie genre mixes with the highest average ratings for all movies with that genre mix for the second highest ratingspmovie genre\n",
    "target_ratings = ratings[ratings['genres'].str.contains(tmaxgenre)]\n",
    "target_ratings = target_ratings.groupby('genres', as_index=False)['rating'].mean()\n",
    "target_ratings = target_ratings.sort_values(by = 'rating', ascending=False)\n",
    "print('average ratings for genre', tmaxgenre)\n",
    "target_ratings.head(10)"
   ]
  },
  {
   "cell_type": "code",
   "execution_count": 21,
   "metadata": {
    "colab": {
     "base_uri": "https://localhost:8080/",
     "height": 376
    },
    "id": "Vk1TT99v6lqb",
    "outputId": "452d8ea4-99dc-472a-d0aa-ec0086d4f655"
   },
   "outputs": [
    {
     "name": "stdout",
     "output_type": "stream",
     "text": [
      "average ratings for genre Fantasy\n"
     ]
    },
    {
     "data": {
      "text/html": [
       "<div>\n",
       "<style scoped>\n",
       "    .dataframe tbody tr th:only-of-type {\n",
       "        vertical-align: middle;\n",
       "    }\n",
       "\n",
       "    .dataframe tbody tr th {\n",
       "        vertical-align: top;\n",
       "    }\n",
       "\n",
       "    .dataframe thead th {\n",
       "        text-align: right;\n",
       "    }\n",
       "</style>\n",
       "<table border=\"1\" class=\"dataframe\">\n",
       "  <thead>\n",
       "    <tr style=\"text-align: right;\">\n",
       "      <th></th>\n",
       "      <th>genres</th>\n",
       "      <th>rating</th>\n",
       "    </tr>\n",
       "  </thead>\n",
       "  <tbody>\n",
       "    <tr>\n",
       "      <th>32</th>\n",
       "      <td>Fantasy</td>\n",
       "      <td>4.000000</td>\n",
       "    </tr>\n",
       "    <tr>\n",
       "      <th>22</th>\n",
       "      <td>Children's|Drama|Fantasy|Sci-Fi</td>\n",
       "      <td>3.965183</td>\n",
       "    </tr>\n",
       "    <tr>\n",
       "      <th>3</th>\n",
       "      <td>Action|Adventure|Fantasy|Sci-Fi</td>\n",
       "      <td>3.904041</td>\n",
       "    </tr>\n",
       "    <tr>\n",
       "      <th>31</th>\n",
       "      <td>Drama|Fantasy|Romance|Thriller</td>\n",
       "      <td>3.865828</td>\n",
       "    </tr>\n",
       "    <tr>\n",
       "      <th>17</th>\n",
       "      <td>Animation|Children's|Drama|Fantasy</td>\n",
       "      <td>3.842623</td>\n",
       "    </tr>\n",
       "    <tr>\n",
       "      <th>6</th>\n",
       "      <td>Action|Drama|Fantasy|Romance</td>\n",
       "      <td>3.812668</td>\n",
       "    </tr>\n",
       "    <tr>\n",
       "      <th>9</th>\n",
       "      <td>Adventure|Children's|Comedy|Fantasy</td>\n",
       "      <td>3.764430</td>\n",
       "    </tr>\n",
       "    <tr>\n",
       "      <th>16</th>\n",
       "      <td>Adventure|Fantasy|Sci-Fi</td>\n",
       "      <td>3.681250</td>\n",
       "    </tr>\n",
       "    <tr>\n",
       "      <th>18</th>\n",
       "      <td>Animation|Children's|Fantasy|Musical</td>\n",
       "      <td>3.659933</td>\n",
       "    </tr>\n",
       "    <tr>\n",
       "      <th>25</th>\n",
       "      <td>Children's|Fantasy|Sci-Fi</td>\n",
       "      <td>3.652113</td>\n",
       "    </tr>\n",
       "  </tbody>\n",
       "</table>\n",
       "</div>"
      ],
      "text/plain": [
       "                                  genres    rating\n",
       "32                               Fantasy  4.000000\n",
       "22       Children's|Drama|Fantasy|Sci-Fi  3.965183\n",
       "3        Action|Adventure|Fantasy|Sci-Fi  3.904041\n",
       "31        Drama|Fantasy|Romance|Thriller  3.865828\n",
       "17    Animation|Children's|Drama|Fantasy  3.842623\n",
       "6           Action|Drama|Fantasy|Romance  3.812668\n",
       "9    Adventure|Children's|Comedy|Fantasy  3.764430\n",
       "16              Adventure|Fantasy|Sci-Fi  3.681250\n",
       "18  Animation|Children's|Fantasy|Musical  3.659933\n",
       "25             Children's|Fantasy|Sci-Fi  3.652113"
      ]
     },
     "execution_count": 21,
     "metadata": {},
     "output_type": "execute_result"
    }
   ],
   "source": [
    "#Show movie genre mixes with the highest average ratings for all movies with that genre mix for the second highest ratingspmovie genre\n",
    "target_ratings = ratings[ratings['genres'].str.contains(smaxgenre)]\n",
    "target_ratings = target_ratings.groupby('genres', as_index=False)['rating'].mean()\n",
    "target_ratings = target_ratings.sort_values(by = 'rating', ascending=False)\n",
    "print('average ratings for genre', smaxgenre)\n",
    "target_ratings.head(10)"
   ]
  },
  {
   "cell_type": "markdown",
   "metadata": {},
   "source": [
    "Fantasy does not meet ratings requirements despite viewership."
   ]
  },
  {
   "cell_type": "code",
   "execution_count": 22,
   "metadata": {
    "colab": {
     "base_uri": "https://localhost:8080/",
     "height": 376
    },
    "id": "XMYhErx05tGF",
    "outputId": "96bf2130-cbc5-440b-e2a8-a8531984875b"
   },
   "outputs": [
    {
     "name": "stdout",
     "output_type": "stream",
     "text": [
      "average ratings for genre Sci-Fi\n"
     ]
    },
    {
     "data": {
      "text/html": [
       "<div>\n",
       "<style scoped>\n",
       "    .dataframe tbody tr th:only-of-type {\n",
       "        vertical-align: middle;\n",
       "    }\n",
       "\n",
       "    .dataframe tbody tr th {\n",
       "        vertical-align: top;\n",
       "    }\n",
       "\n",
       "    .dataframe thead th {\n",
       "        text-align: right;\n",
       "    }\n",
       "</style>\n",
       "<table border=\"1\" class=\"dataframe\">\n",
       "  <thead>\n",
       "    <tr style=\"text-align: right;\">\n",
       "      <th></th>\n",
       "      <th>genres</th>\n",
       "      <th>rating</th>\n",
       "    </tr>\n",
       "  </thead>\n",
       "  <tbody>\n",
       "    <tr>\n",
       "      <th>68</th>\n",
       "      <td>Sci-Fi|War</td>\n",
       "      <td>4.449890</td>\n",
       "    </tr>\n",
       "    <tr>\n",
       "      <th>4</th>\n",
       "      <td>Action|Adventure|Drama|Sci-Fi|War</td>\n",
       "      <td>4.292977</td>\n",
       "    </tr>\n",
       "    <tr>\n",
       "      <th>59</th>\n",
       "      <td>Film-Noir|Sci-Fi</td>\n",
       "      <td>4.273333</td>\n",
       "    </tr>\n",
       "    <tr>\n",
       "      <th>24</th>\n",
       "      <td>Action|Sci-Fi|Thriller|War</td>\n",
       "      <td>4.125824</td>\n",
       "    </tr>\n",
       "    <tr>\n",
       "      <th>54</th>\n",
       "      <td>Drama|Mystery|Sci-Fi|Thriller</td>\n",
       "      <td>4.068765</td>\n",
       "    </tr>\n",
       "    <tr>\n",
       "      <th>7</th>\n",
       "      <td>Action|Adventure|Romance|Sci-Fi|War</td>\n",
       "      <td>4.022893</td>\n",
       "    </tr>\n",
       "    <tr>\n",
       "      <th>43</th>\n",
       "      <td>Children's|Drama|Fantasy|Sci-Fi</td>\n",
       "      <td>3.965183</td>\n",
       "    </tr>\n",
       "    <tr>\n",
       "      <th>55</th>\n",
       "      <td>Drama|Romance|Sci-Fi</td>\n",
       "      <td>3.951613</td>\n",
       "    </tr>\n",
       "    <tr>\n",
       "      <th>41</th>\n",
       "      <td>Animation|Sci-Fi</td>\n",
       "      <td>3.945238</td>\n",
       "    </tr>\n",
       "    <tr>\n",
       "      <th>30</th>\n",
       "      <td>Adventure|Animation|Sci-Fi|Thriller</td>\n",
       "      <td>3.933628</td>\n",
       "    </tr>\n",
       "  </tbody>\n",
       "</table>\n",
       "</div>"
      ],
      "text/plain": [
       "                                 genres    rating\n",
       "68                           Sci-Fi|War  4.449890\n",
       "4     Action|Adventure|Drama|Sci-Fi|War  4.292977\n",
       "59                     Film-Noir|Sci-Fi  4.273333\n",
       "24           Action|Sci-Fi|Thriller|War  4.125824\n",
       "54        Drama|Mystery|Sci-Fi|Thriller  4.068765\n",
       "7   Action|Adventure|Romance|Sci-Fi|War  4.022893\n",
       "43      Children's|Drama|Fantasy|Sci-Fi  3.965183\n",
       "55                 Drama|Romance|Sci-Fi  3.951613\n",
       "41                     Animation|Sci-Fi  3.945238\n",
       "30  Adventure|Animation|Sci-Fi|Thriller  3.933628"
      ]
     },
     "execution_count": 22,
     "metadata": {},
     "output_type": "execute_result"
    }
   ],
   "source": [
    "#Show movie genre mixes with the highest average ratings for all movies with that genre mix for the highest ratingspmovie genre\n",
    "target_ratings = ratings[ratings['genres'].str.contains(maxgenre)]\n",
    "target_ratings = target_ratings.groupby('genres', as_index=False)['rating'].mean()\n",
    "target_ratings = target_ratings.sort_values(by = 'rating', ascending=False)\n",
    "print('average ratings for genre', maxgenre)\n",
    "target_ratings.head(10)"
   ]
  },
  {
   "cell_type": "markdown",
   "metadata": {
    "id": "bGyK6TVmARay"
   },
   "source": [
    "## The best movie to make to maximize viewership while also ensuring ratings over 4.0 would be a science fiction war movie with action, adventure, and drama elements."
   ]
  },
  {
   "cell_type": "code",
   "execution_count": null,
   "metadata": {},
   "outputs": [],
   "source": []
  }
 ],
 "metadata": {
  "colab": {
   "collapsed_sections": [],
   "name": "dataDive2.ipynb",
   "provenance": []
  },
  "kernelspec": {
   "display_name": "Python 3",
   "language": "python",
   "name": "python3"
  },
  "language_info": {
   "codemirror_mode": {
    "name": "ipython",
    "version": 3
   },
   "file_extension": ".py",
   "mimetype": "text/x-python",
   "name": "python",
   "nbconvert_exporter": "python",
   "pygments_lexer": "ipython3",
   "version": "3.8.3"
  }
 },
 "nbformat": 4,
 "nbformat_minor": 1
}
